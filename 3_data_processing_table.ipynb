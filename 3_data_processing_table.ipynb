{
 "cells": [
  {
   "cell_type": "code",
   "execution_count": 3,
   "metadata": {},
   "outputs": [
    {
     "name": "stdout",
     "output_type": "stream",
     "text": [
      "[<tr>\n",
      "<td>일정</td>\n",
      "<td>커리큘럼 타이틀</td>\n",
      "<td>난이도</td>\n",
      "</tr>, <tr>\n",
      "<td>5.1 ~ 6.15</td>\n",
      "<td>나만의 엣지있는 블로그 사이트 만들기 (취미로 익히는 IT)</td>\n",
      "<td>초급</td>\n",
      "</tr>, <tr>\n",
      "<td>6.16 ~ 7.31</td>\n",
      "<td>파이썬과 데이터과학 첫걸음 (IT 기본기 익히기)</td>\n",
      "<td>중급</td>\n",
      "</tr>]\n"
     ]
    }
   ],
   "source": [
    "import requests\n",
    "from bs4 import BeautifulSoup\n",
    "\n",
    "res= requests.get('https://davelee-fun.github.io/blog/crawl_html_css.html')\n",
    "soup = BeautifulSoup(res.content,'html.parser')\n",
    "items = soup.select('tr')\n",
    "print(items)"
   ]
  },
  {
   "cell_type": "code",
   "execution_count": 7,
   "metadata": {},
   "outputs": [
    {
     "name": "stdout",
     "output_type": "stream",
     "text": [
      "<tr>\n",
      "<td>일정</td>\n",
      "<td>커리큘럼 타이틀</td>\n",
      "<td>난이도</td>\n",
      "</tr>\n",
      "<tr>\n",
      "<td>5.1 ~ 6.15</td>\n",
      "<td>나만의 엣지있는 블로그 사이트 만들기 (취미로 익히는 IT)</td>\n",
      "<td>초급</td>\n",
      "</tr>\n",
      "<tr>\n",
      "<td>6.16 ~ 7.31</td>\n",
      "<td>파이썬과 데이터과학 첫걸음 (IT 기본기 익히기)</td>\n",
      "<td>중급</td>\n",
      "</tr>\n"
     ]
    }
   ],
   "source": [
    "import requests\n",
    "from bs4 import BeautifulSoup\n",
    "\n",
    "res= requests.get('https://davelee-fun.github.io/blog/crawl_html_css.html')\n",
    "soup = BeautifulSoup(res.content,'html.parser')\n",
    "items = soup.select('tr')\n",
    "for item in items:\n",
    "    print(item)"
   ]
  },
  {
   "cell_type": "code",
   "execution_count": 8,
   "metadata": {},
   "outputs": [
    {
     "name": "stdout",
     "output_type": "stream",
     "text": [
      "[<td>일정</td>, <td>커리큘럼 타이틀</td>, <td>난이도</td>]\n",
      "[<td>5.1 ~ 6.15</td>, <td>나만의 엣지있는 블로그 사이트 만들기 (취미로 익히는 IT)</td>, <td>초급</td>]\n",
      "[<td>6.16 ~ 7.31</td>, <td>파이썬과 데이터과학 첫걸음 (IT 기본기 익히기)</td>, <td>중급</td>]\n"
     ]
    }
   ],
   "source": [
    "import requests\n",
    "from bs4 import BeautifulSoup\n",
    "\n",
    "res= requests.get('https://davelee-fun.github.io/blog/crawl_html_css.html')\n",
    "soup = BeautifulSoup(res.content,'html.parser')\n",
    "items = soup.select('tr')\n",
    "for item in items:\n",
    "    columns = item.select('td') #select명령어를  쓰는 순간 반환값은 리스트라는 것을 염두해 둔다. \n",
    "    print(columns)"
   ]
  },
  {
   "cell_type": "code",
   "execution_count": 18,
   "metadata": {},
   "outputs": [
    {
     "name": "stdout",
     "output_type": "stream",
     "text": [
      "일정,커리큘럼 타이틀,난이도\n",
      "5.1 ~ 6.15,나만의 엣지있는 블로그 사이트 만들기 (취미로 익히는 IT),초급\n",
      "6.16 ~ 7.31,파이썬과 데이터과학 첫걸음 (IT 기본기 익히기),중급\n"
     ]
    }
   ],
   "source": [
    "import requests\n",
    "from bs4 import BeautifulSoup\n",
    "\n",
    "res= requests.get('https://davelee-fun.github.io/blog/crawl_html_css.html')\n",
    "soup = BeautifulSoup(res.content,'html.parser')\n",
    "items = soup.select('tr')\n",
    "for item in items:\n",
    "    columns = item.select('td') #select명령어를  쓰는 순간 반환값은 리스트라는 것을 염두해 둔다. \n",
    "    records = ''\n",
    "    for column in columns:\n",
    "        records += ',' + column.get_text()\n",
    "    print(records[1:])"
   ]
  },
  {
   "cell_type": "code",
   "execution_count": null,
   "metadata": {},
   "outputs": [],
   "source": []
  }
 ],
 "metadata": {
  "kernelspec": {
   "display_name": "Python 3",
   "language": "python",
   "name": "python3"
  },
  "language_info": {
   "codemirror_mode": {
    "name": "ipython",
    "version": 3
   },
   "file_extension": ".py",
   "mimetype": "text/x-python",
   "name": "python",
   "nbconvert_exporter": "python",
   "pygments_lexer": "ipython3",
   "version": "3.7.6"
  }
 },
 "nbformat": 4,
 "nbformat_minor": 4
}
