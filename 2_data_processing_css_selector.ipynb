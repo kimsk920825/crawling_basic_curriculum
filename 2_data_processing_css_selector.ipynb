{
 "cells": [
  {
   "cell_type": "markdown",
   "metadata": {},
   "source": [
    "select 반환값은 리스트\n",
    "\n",
    "1. soup.select('ul' 'li')\n",
    "\n",
    "    '태그' 띄고 '하위 태그'\n",
    "\n",
    "    특징: 꼭 바로 하위 태그가 아니여도 괜찮다. \n",
    "   \n",
    "   \n",
    "   \n",
    "   \n",
    "2. soup.select('ul'>'li')\n",
    "\n",
    "    '태그' > '하위 태그'\n",
    "\n",
    "    특징: 바로 하위 태그여야 한다. \n",
    "   \n",
    "   \n",
    "   \n",
    "   \n",
    "3. soup.select('.course')\n",
    "\n",
    "    '.클래스이름'\n",
    "\n",
    "    특징: 해당 클래스가 모두 선택 된다. \n",
    "   \n",
    "   \n",
    "   \n",
    "      \n",
    "4. soup.select('#start')\n",
    "    '#아이디명'\n",
    "   \n",
    "   \n",
    "   \n",
    "      \n",
    "5. 복수개 선택 \n",
    "    soup.select('ul#hobby_course_list li.course')\n",
    "\n",
    "    - ul태그에 (바로 붙혀서) 아이디가 hobby_course_list\n",
    "\n",
    "    - 한칸 띄고 (바로 밑 태가 선택하기 위해서 한칸을 띄고나 꺽세 표시)\n",
    "\n",
    "    - li.course 클래스이 때문에 .course를 써준다. \n",
    "   \n",
    "   \n",
    "   \n",
    "      \n",
    "6. soup.select('ul#dev_course_list > li.course.paid')\n",
    "\n",
    "\n",
    "\n"
   ]
  },
  {
   "cell_type": "code",
   "execution_count": 6,
   "metadata": {},
   "outputs": [
    {
     "name": "stdout",
     "output_type": "stream",
     "text": [
      "다양한 마크다운 기법 익혀보며, 나만의 블로그 페이지 꾸며보기\n"
     ]
    }
   ],
   "source": [
    "import requests\n",
    "from bs4 import BeautifulSoup\n",
    "\n",
    "res = requests.get('https://davelee-fun.github.io/blog/crawl_test')\n",
    "soup = BeautifulSoup(res.content,'html.parser')\n",
    "items = soup.select('ul#hobby_course_list li.course')\n",
    "print(items[-1].get_text().strip('(왕초보) - '))\n",
    "# for item in items:\n",
    "#     print(item.get_text())"
   ]
  },
  {
   "cell_type": "code",
   "execution_count": null,
   "metadata": {},
   "outputs": [],
   "source": []
  }
 ],
 "metadata": {
  "kernelspec": {
   "display_name": "Python 3",
   "language": "python",
   "name": "python3"
  },
  "language_info": {
   "codemirror_mode": {
    "name": "ipython",
    "version": 3
   },
   "file_extension": ".py",
   "mimetype": "text/x-python",
   "name": "python",
   "nbconvert_exporter": "python",
   "pygments_lexer": "ipython3",
   "version": "3.7.6"
  }
 },
 "nbformat": 4,
 "nbformat_minor": 4
}
